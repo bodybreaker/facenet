{
 "cells": [
  {
   "cell_type": "markdown",
   "metadata": {},
   "source": [
    "## 테스트 데이터셋 추출"
   ]
  },
  {
   "cell_type": "code",
   "execution_count": 62,
   "metadata": {},
   "outputs": [
    {
     "name": "stdout",
     "output_type": "stream",
     "text": [
      "학습 이미지 경로 >> data/images/train_celeb\n",
      "테스트 이미지 저장 경로 >> data/images/train_celeb\n"
     ]
    }
   ],
   "source": [
    "import pathlib\n",
    "import os\n",
    "import shutil\n",
    "\n",
    "TRAIN_FOLDER_NAME='data/images/train_celeb' # 학습 데이터 위치\n",
    "TEST_FOLDER_NAME='data/images/test_celeb'\n",
    "\n",
    "\n",
    "train_data_dir = pathlib.Path('./'+TRAIN_FOLDER_NAME)\n",
    "test_data_dir = pathlib.Path('./'+TEST_FOLDER_NAME)\n",
    "\n",
    "print(\"학습 이미지 경로 >> \"+str(train_data_dir))\n",
    "print(\"테스트 이미지 저장 경로 >> \"+str(train_data_dir))\n",
    "\n",
    "class_name_list = []\n",
    "\n",
    "\n",
    "# 테스트 데이터 폴더 생성\n",
    "if not os.path.exists(test_data_dir): \n",
    "    os.makedirs(test_data_dir)\n",
    "\n",
    "# 학습 데이터셋에서 한장씩 뽑아서 train dataset으로 넣음\n",
    "for i,entry in enumerate(os.scandir(train_data_dir)):\n",
    "    class_name_list.append(entry.name)\n",
    "    \n",
    "    target_path = str(test_data_dir)+\"/\"+entry.name\n",
    "    if not os.path.exists(target_path): \n",
    "        print(\"폴더 생성 >> \"+target_path)\n",
    "        os.makedirs(target_path)  \n",
    "\n",
    "    image_list = os.listdir(entry.path)  \n",
    "    shutil.move(entry.path+\"/\"+image_list[0], target_path+\"/\"+image_list[0])\n",
    "\n",
    "\n"
   ]
  },
  {
   "cell_type": "code",
   "execution_count": null,
   "metadata": {},
   "outputs": [],
   "source": []
  }
 ],
 "metadata": {
  "kernelspec": {
   "display_name": "Python [conda env:face_net]",
   "language": "python",
   "name": "conda-env-face_net-py"
  },
  "language_info": {
   "codemirror_mode": {
    "name": "ipython",
    "version": 3
   },
   "file_extension": ".py",
   "mimetype": "text/x-python",
   "name": "python",
   "nbconvert_exporter": "python",
   "pygments_lexer": "ipython3",
   "version": "3.8.13"
  }
 },
 "nbformat": 4,
 "nbformat_minor": 4
}
